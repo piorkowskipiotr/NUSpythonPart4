{
 "cells": [
  {
   "cell_type": "code",
   "execution_count": 34,
   "id": "bc8620ee",
   "metadata": {},
   "outputs": [
    {
     "name": "stdout",
     "output_type": "stream",
     "text": [
      "Requirement already satisfied: exbook in c:\\users\\pipio\\anaconda3\\lib\\site-packages (0.0.3)\n"
     ]
    }
   ],
   "source": [
    "!pip install exbook"
   ]
  },
  {
   "cell_type": "code",
   "execution_count": 1,
   "id": "8a973939",
   "metadata": {},
   "outputs": [
    {
     "data": {
      "text/plain": [
       "36"
      ]
     },
     "execution_count": 1,
     "metadata": {},
     "output_type": "execute_result"
    }
   ],
   "source": [
    "from exbook import book as eb\n",
    "len(eb)"
   ]
  },
  {
   "cell_type": "code",
   "execution_count": 6,
   "id": "6e93c27f",
   "metadata": {},
   "outputs": [
    {
     "name": "stdout",
     "output_type": "stream",
     "text": [
      "There are n stairs, a person standing at the bottom wants to reach the top \n",
      "of the stairs. This person can climb either 1 stair or 2 stairs at a time. \n",
      "Write a function with the input argument n to count the number of ways, the \n",
      "person can reach the top. For example, if n = 2, this person has 2 ways to \n",
      "getto the top; if n = 3, this person has 3 ways to get to the top; if n = 4, \n",
      "this person has 5 ways to get to the top.\n"
     ]
    },
    {
     "data": {
      "text/html": [
       "<div>\n",
       "<style scoped>\n",
       "    .dataframe tbody tr th:only-of-type {\n",
       "        vertical-align: middle;\n",
       "    }\n",
       "\n",
       "    .dataframe tbody tr th {\n",
       "        vertical-align: top;\n",
       "    }\n",
       "\n",
       "    .dataframe thead th {\n",
       "        text-align: right;\n",
       "    }\n",
       "</style>\n",
       "<table border=\"1\" class=\"dataframe\">\n",
       "  <thead>\n",
       "    <tr style=\"text-align: right;\">\n",
       "      <th></th>\n",
       "      <th>Input1: int</th>\n",
       "      <th>Output: int</th>\n",
       "    </tr>\n",
       "  </thead>\n",
       "  <tbody>\n",
       "    <tr>\n",
       "      <th>Test 1:</th>\n",
       "      <td>2</td>\n",
       "      <td>2</td>\n",
       "    </tr>\n",
       "    <tr>\n",
       "      <th>Test 2:</th>\n",
       "      <td>5</td>\n",
       "      <td>8</td>\n",
       "    </tr>\n",
       "    <tr>\n",
       "      <th>Test 3:</th>\n",
       "      <td>11</td>\n",
       "      <td>144</td>\n",
       "    </tr>\n",
       "  </tbody>\n",
       "</table>\n",
       "</div>"
      ],
      "text/plain": [
       "        Input1: int Output: int\n",
       "Test 1:           2           2\n",
       "Test 2:           5           8\n",
       "Test 3:          11         144"
      ]
     },
     "metadata": {},
     "output_type": "display_data"
    },
    {
     "name": "stdout",
     "output_type": "stream",
     "text": [
      "\n",
      "\u001b[1mStairs: Hard\u001b[0;0m \n",
      "\n"
     ]
    }
   ],
   "source": [
    "print(eb[24])"
   ]
  },
  {
   "cell_type": "code",
   "execution_count": null,
   "id": "4951f95b",
   "metadata": {},
   "outputs": [],
   "source": [
    "def steps(n):\n",
    "    "
   ]
  },
  {
   "cell_type": "code",
   "execution_count": 7,
   "id": "21416109",
   "metadata": {},
   "outputs": [
    {
     "name": "stdout",
     "output_type": "stream",
     "text": [
      "Given positive integers n and m as input arguments, write a function to \n",
      "select all positive integers that are no larger than n and the summations \n",
      "of all digits are the same as m. Return these selected integers as a list. \n",
      "For example, if n = 30 and m = 5, the returned output is [5, 14, 23], if \n",
      "n = 50 and m = 9, then returned output is [9, 18, 27, 36, 45]\n"
     ]
    },
    {
     "data": {
      "text/html": [
       "<div>\n",
       "<style scoped>\n",
       "    .dataframe tbody tr th:only-of-type {\n",
       "        vertical-align: middle;\n",
       "    }\n",
       "\n",
       "    .dataframe tbody tr th {\n",
       "        vertical-align: top;\n",
       "    }\n",
       "\n",
       "    .dataframe thead th {\n",
       "        text-align: right;\n",
       "    }\n",
       "</style>\n",
       "<table border=\"1\" class=\"dataframe\">\n",
       "  <thead>\n",
       "    <tr style=\"text-align: right;\">\n",
       "      <th></th>\n",
       "      <th>Input1: int</th>\n",
       "      <th>Input2: int</th>\n",
       "      <th>Output: list</th>\n",
       "    </tr>\n",
       "  </thead>\n",
       "  <tbody>\n",
       "    <tr>\n",
       "      <th>Test 1:</th>\n",
       "      <td>30</td>\n",
       "      <td>5</td>\n",
       "      <td>[5, 14, 23]</td>\n",
       "    </tr>\n",
       "    <tr>\n",
       "      <th>Test 2:</th>\n",
       "      <td>50</td>\n",
       "      <td>9</td>\n",
       "      <td>[9, 18, 27, 36, 45]</td>\n",
       "    </tr>\n",
       "  </tbody>\n",
       "</table>\n",
       "</div>"
      ],
      "text/plain": [
       "        Input1: int Input2: int         Output: list\n",
       "Test 1:          30           5          [5, 14, 23]\n",
       "Test 2:          50           9  [9, 18, 27, 36, 45]"
      ]
     },
     "metadata": {},
     "output_type": "display_data"
    },
    {
     "name": "stdout",
     "output_type": "stream",
     "text": [
      "\n",
      "\u001b[1mDigit Sum: Medium\u001b[0;0m \n",
      "\n"
     ]
    }
   ],
   "source": [
    "print(eb[25])"
   ]
  },
  {
   "cell_type": "code",
   "execution_count": 40,
   "id": "4a2b20f8",
   "metadata": {},
   "outputs": [
    {
     "data": {
      "text/plain": [
       "['5', '14', '23']"
      ]
     },
     "execution_count": 40,
     "metadata": {},
     "output_type": "execute_result"
    }
   ],
   "source": [
    "#solution for question 25\n",
    "\n",
    "def trickster(n,m):\n",
    "    \n",
    "    output = []\n",
    "    for x in range(0,n+1):\n",
    "        x = str(x)\n",
    "        sum = 0    # this was important as need to zero my sum each time we go through new number\n",
    "        for y in x:\n",
    "            y = int(y)   # this ones are more experiments so that i can go through these integers and strings etc etc \n",
    "            sum = y + sum\n",
    "        if sum == m:\n",
    "            output.append(x)\n",
    "    return(output)\n",
    "        \n",
    "\n",
    "trickster(30,5)\n",
    "\n",
    "\n",
    "#z = [35,42,65]\n",
    "#for y in z:\n",
    "#    y = str(y)\n",
    "#    print(y)\n",
    "#    print(type(y))\n",
    "#    for u in y:\n",
    "#        u = int(u)\n",
    "#        print(int(u))\n",
    "#        print(type(u))"
   ]
  },
  {
   "cell_type": "code",
   "execution_count": 2,
   "id": "76d1839c",
   "metadata": {},
   "outputs": [
    {
     "name": "stdout",
     "output_type": "stream",
     "text": [
      "Given a list of numbers as the input argument, write a function to return \n",
      "a list of numbers that only appear once in the list. For example, if the \n",
      "input is [1, 2, 1, 4, 3, 2, 0], then the  output is [4, 3, 0]; if the input \n",
      "is [1.5, 2, 2.0, 3.5, 1.5, 2], then the output is [3.5].\n"
     ]
    },
    {
     "data": {
      "text/html": [
       "<div>\n",
       "<style scoped>\n",
       "    .dataframe tbody tr th:only-of-type {\n",
       "        vertical-align: middle;\n",
       "    }\n",
       "\n",
       "    .dataframe tbody tr th {\n",
       "        vertical-align: top;\n",
       "    }\n",
       "\n",
       "    .dataframe thead th {\n",
       "        text-align: right;\n",
       "    }\n",
       "</style>\n",
       "<table border=\"1\" class=\"dataframe\">\n",
       "  <thead>\n",
       "    <tr style=\"text-align: right;\">\n",
       "      <th></th>\n",
       "      <th>Input1: list</th>\n",
       "      <th>Output: list</th>\n",
       "    </tr>\n",
       "  </thead>\n",
       "  <tbody>\n",
       "    <tr>\n",
       "      <th>Test 1:</th>\n",
       "      <td>[1, 2, 1, 4, 3, 2, 0]</td>\n",
       "      <td>[4, 3, 0]</td>\n",
       "    </tr>\n",
       "    <tr>\n",
       "      <th>Test 2:</th>\n",
       "      <td>[1.5, 2, 2.0, 3.5, 1.5, 2]</td>\n",
       "      <td>[3.5]</td>\n",
       "    </tr>\n",
       "  </tbody>\n",
       "</table>\n",
       "</div>"
      ],
      "text/plain": [
       "                       Input1: list Output: list\n",
       "Test 1:       [1, 2, 1, 4, 3, 2, 0]    [4, 3, 0]\n",
       "Test 2:  [1.5, 2, 2.0, 3.5, 1.5, 2]        [3.5]"
      ]
     },
     "metadata": {},
     "output_type": "display_data"
    },
    {
     "name": "stdout",
     "output_type": "stream",
     "text": [
      "\n",
      "\u001b[1mOne Appearance: Medium\u001b[0;0m \n",
      "\n"
     ]
    }
   ],
   "source": [
    "print(eb[26])"
   ]
  },
  {
   "cell_type": "code",
   "execution_count": null,
   "id": "b9a65395",
   "metadata": {},
   "outputs": [],
   "source": [
    "def removi(x):\n",
    "    "
   ]
  },
  {
   "cell_type": "code",
   "execution_count": 33,
   "id": "b6952e5c",
   "metadata": {},
   "outputs": [
    {
     "ename": "NameError",
     "evalue": "name 'eb' is not defined",
     "output_type": "error",
     "traceback": [
      "\u001b[1;31m---------------------------------------------------------------------------\u001b[0m",
      "\u001b[1;31mNameError\u001b[0m                                 Traceback (most recent call last)",
      "\u001b[1;32m~\\AppData\\Local\\Temp/ipykernel_14328/1608546425.py\u001b[0m in \u001b[0;36m<module>\u001b[1;34m\u001b[0m\n\u001b[1;32m----> 1\u001b[1;33m \u001b[0mprint\u001b[0m\u001b[1;33m(\u001b[0m\u001b[0meb\u001b[0m\u001b[1;33m[\u001b[0m\u001b[1;36m27\u001b[0m\u001b[1;33m]\u001b[0m\u001b[1;33m)\u001b[0m\u001b[1;33m\u001b[0m\u001b[1;33m\u001b[0m\u001b[0m\n\u001b[0m",
      "\u001b[1;31mNameError\u001b[0m: name 'eb' is not defined"
     ]
    }
   ],
   "source": [
    "print(eb[27])"
   ]
  },
  {
   "cell_type": "code",
   "execution_count": 10,
   "id": "987a21ae",
   "metadata": {},
   "outputs": [
    {
     "name": "stdout",
     "output_type": "stream",
     "text": [
      "Given a string containing different types of parentheses, write a function \n",
      "to check if these parentheses matches. For example, if the input is \"(this \n",
      "is {a test})\", the output is True; if the input is \"(this is {a test)}\", \n",
      "then the output is False.\n"
     ]
    },
    {
     "data": {
      "text/html": [
       "<div>\n",
       "<style scoped>\n",
       "    .dataframe tbody tr th:only-of-type {\n",
       "        vertical-align: middle;\n",
       "    }\n",
       "\n",
       "    .dataframe tbody tr th {\n",
       "        vertical-align: top;\n",
       "    }\n",
       "\n",
       "    .dataframe thead th {\n",
       "        text-align: right;\n",
       "    }\n",
       "</style>\n",
       "<table border=\"1\" class=\"dataframe\">\n",
       "  <thead>\n",
       "    <tr style=\"text-align: right;\">\n",
       "      <th></th>\n",
       "      <th>Input1: str</th>\n",
       "      <th>Output: bool</th>\n",
       "    </tr>\n",
       "  </thead>\n",
       "  <tbody>\n",
       "    <tr>\n",
       "      <th>Test 1:</th>\n",
       "      <td>(this is {a test})</td>\n",
       "      <td>True</td>\n",
       "    </tr>\n",
       "    <tr>\n",
       "      <th>Test 2:</th>\n",
       "      <td>(this is {a test)}</td>\n",
       "      <td>False</td>\n",
       "    </tr>\n",
       "  </tbody>\n",
       "</table>\n",
       "</div>"
      ],
      "text/plain": [
       "                Input1: str Output: bool\n",
       "Test 1:  (this is {a test})         True\n",
       "Test 2:  (this is {a test)}        False"
      ]
     },
     "metadata": {},
     "output_type": "display_data"
    },
    {
     "name": "stdout",
     "output_type": "stream",
     "text": [
      "\n",
      "\u001b[1mMatch Parentheses:  Very Hard\u001b[0;0m \n",
      "\n"
     ]
    }
   ],
   "source": [
    "print(eb[28])"
   ]
  },
  {
   "cell_type": "code",
   "execution_count": 11,
   "id": "ae922ad9",
   "metadata": {},
   "outputs": [
    {
     "name": "stdout",
     "output_type": "stream",
     "text": [
      "Given a list of numbers as the input argument, write a function to move all \n",
      "zeros to the end of the list, while the order of the other numbers remain \n",
      "the same. For example, if the input is [0, 1, 0, 3, 12], then the output is \n",
      "[1, 3, 12, 0, 0]. \n"
     ]
    },
    {
     "data": {
      "text/html": [
       "<div>\n",
       "<style scoped>\n",
       "    .dataframe tbody tr th:only-of-type {\n",
       "        vertical-align: middle;\n",
       "    }\n",
       "\n",
       "    .dataframe tbody tr th {\n",
       "        vertical-align: top;\n",
       "    }\n",
       "\n",
       "    .dataframe thead th {\n",
       "        text-align: right;\n",
       "    }\n",
       "</style>\n",
       "<table border=\"1\" class=\"dataframe\">\n",
       "  <thead>\n",
       "    <tr style=\"text-align: right;\">\n",
       "      <th></th>\n",
       "      <th>Input1: list</th>\n",
       "      <th>Output: list</th>\n",
       "    </tr>\n",
       "  </thead>\n",
       "  <tbody>\n",
       "    <tr>\n",
       "      <th>Test 1:</th>\n",
       "      <td>[0, 1, 0, 3, 12]</td>\n",
       "      <td>[1, 3, 12, 0, 0]</td>\n",
       "    </tr>\n",
       "    <tr>\n",
       "      <th>Test 2:</th>\n",
       "      <td>[-4, -2, 1, 0, 0, 2, 0]</td>\n",
       "      <td>[-4, -2, 1, 2, 0, 0, 0]</td>\n",
       "    </tr>\n",
       "  </tbody>\n",
       "</table>\n",
       "</div>"
      ],
      "text/plain": [
       "                    Input1: list             Output: list\n",
       "Test 1:         [0, 1, 0, 3, 12]         [1, 3, 12, 0, 0]\n",
       "Test 2:  [-4, -2, 1, 0, 0, 2, 0]  [-4, -2, 1, 2, 0, 0, 0]"
      ]
     },
     "metadata": {},
     "output_type": "display_data"
    },
    {
     "name": "stdout",
     "output_type": "stream",
     "text": [
      "\n",
      "\u001b[1mMove Zeros: Easy\u001b[0;0m \n",
      "\n"
     ]
    }
   ],
   "source": [
    "print(eb[29])"
   ]
  },
  {
   "cell_type": "code",
   "execution_count": 8,
   "id": "6d0c990b",
   "metadata": {},
   "outputs": [
    {
     "data": {
      "text/plain": [
       "[1, 3, 12, 0, 0]"
      ]
     },
     "execution_count": 8,
     "metadata": {},
     "output_type": "execute_result"
    }
   ],
   "source": [
    "#def zero(x):\n",
    "#    for digit in range(0,len(x)):\n",
    "#        if x[digit] == 0:\n",
    "#            y = x.pop(digit)\n",
    "#            x.append(y)\n",
    "            \n",
    "#    print(x)\n",
    "    \n",
    "#zero([-4, -2, 1, 0, 0, 2, 0])\n",
    "\n",
    "\n",
    "def zero(x):\n",
    "    counter = 0\n",
    "    for numbers in x:\n",
    "        if numbers == 0:\n",
    "            x.remove(0)\n",
    "            counter = counter +1\n",
    "    x = x + [0]*counter    \n",
    "    return(x)\n",
    "    \n",
    "zero([0, 1, 0, 3, 12])"
   ]
  },
  {
   "cell_type": "code",
   "execution_count": null,
   "id": "5e939387",
   "metadata": {},
   "outputs": [],
   "source": []
  }
 ],
 "metadata": {
  "kernelspec": {
   "display_name": "Python 3 (ipykernel)",
   "language": "python",
   "name": "python3"
  },
  "language_info": {
   "codemirror_mode": {
    "name": "ipython",
    "version": 3
   },
   "file_extension": ".py",
   "mimetype": "text/x-python",
   "name": "python",
   "nbconvert_exporter": "python",
   "pygments_lexer": "ipython3",
   "version": "3.9.7"
  }
 },
 "nbformat": 4,
 "nbformat_minor": 5
}
